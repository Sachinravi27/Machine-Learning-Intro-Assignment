{
  "nbformat": 4,
  "nbformat_minor": 0,
  "metadata": {
    "colab": {
      "provenance": []
    },
    "kernelspec": {
      "name": "python3",
      "display_name": "Python 3"
    },
    "language_info": {
      "name": "python"
    }
  },
  "cells": [
    {
      "cell_type": "markdown",
      "source": [
        "**Machine Learning Intro  Assignment**\n",
        "\n",
        "**Question 1:** Explain the differences between AI, ML, Deep Learning (DL), and Data Science (DS).\n",
        "\n",
        "  - AI (Artificial Intelligence): Broad field that focuses on making machines perform tasks that usually need human intelligence, like problem-solving, decision-making, or understanding language.\n",
        "\n",
        "  - ML (Machine Learning): A subset of AI where machines learn from data and improve automatically without being explicitly programmed.\n",
        "\n",
        "  - Deep Learning (DL): A branch of ML that uses artificial neural networks with many layers to handle complex tasks like image recognition, speech, or natural language.\n",
        "\n",
        "  - Data Science (DS): A broader field that deals with collecting, cleaning, analyzing, and interpreting data to gain insights. It often uses AI/ML as tools but also covers statistics and visualization.\n",
        "\n",
        "  - In short: AI is the goal, ML is the method, DL is a specialized technique, and DS is about extracting knowledge from data.\n",
        "\n",
        "\n",
        "**Question 2:** What are the types of machine learning? Describe each with one\n",
        "real-world example.\n",
        "\n",
        "  - supervised learning, the model is trained using labeled data where both the input and output are known. The algorithm learns the relationship between them so it can predict outputs for new inputs. For example, predicting house prices based on features like size, location, and number of rooms is a supervised learning task.\n",
        "\n",
        "  - Unsupervised learning, on the other hand, works with unlabeled data where the outputs are not provided. The algorithm tries to discover hidden patterns or structures in the data. A common example is customer segmentation in marketing, where customers are grouped according to their buying behavior without any prior labels.\n",
        "\n",
        "  - Reinforcement learning is different from the first two. Here, the model learns by interacting with an environment. It takes actions, receives feedback in the form of rewards or penalties, and gradually improves its strategy to maximize rewards. For instance, training a self-driving car to navigate safely in traffic is an example of reinforcement learning.\n",
        "\n",
        "\n",
        "**Question 3:** Define overfitting, underfitting, and the bias-variance tradeoff in machine learning.\n",
        "\n",
        "  - Overfitting happens when a machine learning model learns the training data too well, including its noise and small details. Because of this, the model performs very well on training data but poorly on unseen data. For example, a model that memorizes past exam questions may fail if a new type of question appears.\n",
        "\n",
        "  - Underfitting is the opposite. It occurs when the model is too simple and cannot capture the patterns in the data. As a result, it performs badly both on training and test data. An example is trying to predict house prices using only one feature like “number of rooms,” while ignoring other important factors.\n",
        "\n",
        "  - The bias-variance tradeoff is about finding the right balance between these two problems. High bias means the model is too simple (leading to underfitting), while high variance means the model is too complex (leading to overfitting). The goal in machine learning is to choose a model that balances bias and variance so it generalizes well to new data.\n",
        "\n",
        "Question 4: What are outliers in a dataset, and list three common techniques for handling them.\n",
        "\n",
        "  - Outliers are data points that are very different from the rest of the observations. They can occur due to errors in data collection, unusual events, or natural variability. Outliers can distort analysis and affect the performance of machine learning models.\n",
        "\n",
        "**Three common techniques to handle outliers:**\n",
        "\n",
        "**Removal of outliers** : Delete the extreme values if they are clearly due to errors or irrelevant.\n",
        "Example: A person's age recorded as 250 years.\n",
        "\n",
        "**Transformation :** Apply log, square root, or other transformations to reduce the effect of extreme values.\n",
        "\n",
        "**Capping or Imputation :** Replace outliers with a threshold value (like 1st and 99th percentile) or with mean/median values.\n",
        "\n",
        "**Question 5:** Explain the process of handling missing values and mention one\n",
        "imputation technique for numerical and one for categorical data.\n",
        "\n",
        " **Handling missing values:**\n",
        "  - Missing values occur when no data is stored for a variable. If not handled properly, they can reduce model accuracy. The general process is:\n",
        "\n",
        "  - Identify the missing values in the dataset.\n",
        "\n",
        "  - Analyze the reason and percentage of missing data.\n",
        "\n",
        "  - Decide whether to remove or impute (fill) them based on the situation.\n",
        "\n",
        "  - Apply the suitable method before training the model.\n",
        "\n",
        "**Imputation techniques:**\n",
        "\n",
        "  - Numerical data: Replace missing values with the mean or median of the column.\n",
        "\n",
        "  - Categorical data: Replace missing values with the mode (most frequent category)."
      ],
      "metadata": {
        "id": "cLC69DRUR-sU"
      }
    },
    {
      "cell_type": "code",
      "source": [
        "\"\"\" Question 6: Write a Python program that:\n",
        "● Creates a synthetic imbalanced dataset with make_classification() from\n",
        "sklearn.datasets.\n",
        "● Prints the class distribution. \"\"\"\n",
        "\n",
        "from sklearn.datasets import make_classification\n",
        "from collections import Counter\n",
        "\n",
        "# create synthetic imbalanced dataset\n",
        "X, y = make_classification(n_samples=1000, n_features=2, n_redundant=0,\n",
        "                           n_clusters_per_class=1, weights=[0.9, 0.1],\n",
        "                           random_state=42)\n",
        "\n",
        "print(\"Class distribution:\", Counter(y))"
      ],
      "metadata": {
        "colab": {
          "base_uri": "https://localhost:8080/"
        },
        "id": "jJ4SvUnuWEQ2",
        "outputId": "1c66b573-fcdb-4651-f0a4-09dccf14a787"
      },
      "execution_count": 1,
      "outputs": [
        {
          "output_type": "stream",
          "name": "stdout",
          "text": [
            "Class distribution: Counter({np.int64(0): 895, np.int64(1): 105})\n"
          ]
        }
      ]
    },
    {
      "cell_type": "code",
      "source": [
        "\"\"\" Question 7: Implement one-hot encoding using pandas for the following list of colors:\n",
        "['Red', 'Green', 'Blue', 'Green', 'Red']. Print the resulting dataframe. \"\"\"\n",
        "\n",
        "# given list\n",
        "colors = ['Red', 'Green', 'Blue', 'Green', 'Red']\n",
        "\n",
        "df = pd.DataFrame(colors, columns=['Color'])\n",
        "\n",
        "# apply one-hot encoding (0/1 format)\n",
        "one_hot = pd.get_dummies(df['Color'], dtype=int)\n",
        "\n",
        "print(one_hot)"
      ],
      "metadata": {
        "colab": {
          "base_uri": "https://localhost:8080/"
        },
        "id": "v9ON6pfoWshd",
        "outputId": "614998ec-3e83-48a7-f2f1-df0e1dd485bf"
      },
      "execution_count": 3,
      "outputs": [
        {
          "output_type": "stream",
          "name": "stdout",
          "text": [
            "   Blue  Green  Red\n",
            "0     0      0    1\n",
            "1     0      1    0\n",
            "2     1      0    0\n",
            "3     0      1    0\n",
            "4     0      0    1\n"
          ]
        }
      ]
    },
    {
      "cell_type": "code",
      "source": [
        "\"\"\" Question 8: Write a Python script to:\n",
        "● Generate 1000 samples from a normal distribution.\n",
        "● Introduce 50 random missing values.\n",
        "● Fill missing values with the column mean.\n",
        "● Plot a histogram before and after imputation. \"\"\"\n",
        "\n",
        "import numpy as np\n",
        "import pandas as pd\n",
        "import matplotlib.pyplot as plt\n",
        "\n",
        "# 1. Generate 1000 samples from a normal distribution\n",
        "data = np.random.normal(loc=0, scale=1, size=1000)   # mean=0, std=1\n",
        "\n",
        "# 2. Introduce 50 random missing values\n",
        "data[np.random.choice(1000, 50, replace=False)] = np.nan\n",
        "\n",
        "# convert to DataFrame for easy handling\n",
        "df = pd.DataFrame(data, columns=['Values'])\n",
        "\n",
        "# 3. Plot histogram before imputation\n",
        "plt.hist(df['Values'].dropna(), bins=30)\n",
        "plt.title(\"Before Imputation\")\n",
        "plt.xlabel(\"Value\")\n",
        "plt.ylabel(\"Frequency\")\n",
        "plt.show()\n",
        "\n",
        "# 4. Fill missing values with column mean\n",
        "mean_value = df['Values'].mean()\n",
        "df['Values'].fillna(mean_value, inplace=True)\n",
        "\n",
        "# 5. Plot histogram after imputation\n",
        "plt.hist(df['Values'], bins=30)\n",
        "plt.title(\"After Imputation\")\n",
        "plt.xlabel(\"Value\")\n",
        "plt.ylabel(\"Frequency\")\n",
        "plt.show()\n"
      ],
      "metadata": {
        "colab": {
          "base_uri": "https://localhost:8080/",
          "height": 1000
        },
        "id": "IfPE6wPKXmjv",
        "outputId": "a6b7f6d1-d6cb-4aeb-fd98-36999dd545ee"
      },
      "execution_count": 4,
      "outputs": [
        {
          "output_type": "display_data",
          "data": {
            "text/plain": [
              "<Figure size 640x480 with 1 Axes>"
            ],
            "image/png": "[encoded data removed]"
          },
          "metadata": {}
        },
        {
          "output_type": "stream",
          "name": "stderr",
          "text": [
            "/tmp/ipython-input-386433962.py:29: FutureWarning: A value is trying to be set on a copy of a DataFrame or Series through chained assignment using an inplace method.\n",
            "The behavior will change in pandas 3.0. This inplace method will never work because the intermediate object on which we are setting values always behaves as a copy.\n",
            "\n",
            "For example, when doing 'df[col].method(value, inplace=True)', try using 'df.method({col: value}, inplace=True)' or df[col] = df[col].method(value) instead, to perform the operation inplace on the original object.\n",
            "\n",
            "\n",
            "  df['Values'].fillna(mean_value, inplace=True)\n"
          ]
        },
        {
          "output_type": "display_data",
          "data": {
            "text/plain": [
              "<Figure size 640x480 with 1 Axes>"
            ],
            "image/png": "[encoded data removed]"
          },
          "metadata": {}
        }
      ]
    },
    {
      "cell_type": "code",
      "source": [
        "\"\"\" Question 9: Implement Min-Max scaling on the following list of numbers [2, 5, 10, 15, 20]\n",
        "using sklearn.preprocessing.MinMaxScaler. Print the scaled array. \"\"\"\n",
        "\n",
        "import numpy as np\n",
        "from sklearn.preprocessing import MinMaxScaler\n",
        "\n",
        "data = np.array([[2], [5], [10], [15], [20]])\n",
        "\n",
        "# create scaler\n",
        "scaler = MinMaxScaler()\n",
        "\n",
        "# apply min-max scaling\n",
        "scaled_data = scaler.fit_transform(data)\n",
        "\n",
        "print(\"Scaled Data:\\n\", scaled_data)\n",
        "\n"
      ],
      "metadata": {
        "colab": {
          "base_uri": "https://localhost:8080/"
        },
        "id": "g2mlpKP-YJSE",
        "outputId": "4935e0f9-1811-47f6-ed6b-770554de3ed3"
      },
      "execution_count": 5,
      "outputs": [
        {
          "output_type": "stream",
          "name": "stdout",
          "text": [
            "Scaled Data:\n",
            " [[0.        ]\n",
            " [0.16666667]\n",
            " [0.44444444]\n",
            " [0.72222222]\n",
            " [1.        ]]\n"
          ]
        }
      ]
    },
    {
      "cell_type": "code",
      "source": [
        "\"\"\" Question 10: You are working as a data scientist for a retail company. You receive a customer\n",
        "transaction dataset that contains:\n",
        "● Missing ages,\n",
        "● Outliers in transaction amount,\n",
        "● A highly imbalanced target (fraud vs. non-fraud),\n",
        "● Categorical variables like payment method.\n",
        "Explain the step-by-step data preparation plan you’d follow before training a machine learning\n",
        "model. Include how you’d address missing data, outliers, imbalance, and encoding.\"\"\"\n",
        "\n",
        "\n",
        "# Step-by-step data preparation plan:\n",
        "#\n",
        "# 1. Split the data first (train/validation/test) using stratified split\n",
        "#    so the fraud vs non-fraud ratio stays balanced across splits.\n",
        "#\n",
        "# 2. Handle missing ages:\n",
        "#    - Use median (or group-wise median) imputation for missing ages.\n",
        "#    - Add an extra column \"age_missing\" (0/1) to indicate missing values.\n",
        "#\n",
        "# 3. Handle outliers in transaction amount:\n",
        "#    - Detect with boxplots / IQR / z-scores.\n",
        "#    - If they are errors → fix or drop them.\n",
        "#    - If they are genuine → cap them at percentiles (winsorization)\n",
        "#      or apply log transform to reduce skew.\n",
        "#    - Add a binary feature \"is_high_amount\".\n",
        "#\n",
        "# 4. Handle categorical variables (e.g. payment method):\n",
        "#    - If categories are small in number → use One-Hot Encoding.\n",
        "#    - If categories are large (like merchant_id) → use frequency encoding,\n",
        "#      target encoding with cross-validation, or hashing trick.\n",
        "#    - Combine very rare categories into \"Other\".\n",
        "#\n",
        "# 5. Handle class imbalance (fraud detection problem):\n",
        "#    - Use evaluation metrics like Precision-Recall AUC, F1-score,\n",
        "#      or recall at fixed precision (instead of plain accuracy).\n",
        "#    - Use class_weight='balanced' in models OR apply resampling methods\n",
        "#      like SMOTE / RandomOverSampler (only on training folds).\n",
        "#\n",
        "# 6. Scaling and transformations:\n",
        "#    - For skewed numeric columns (transaction amount) → apply log1p.\n",
        "#    - Scale features with StandardScaler or RobustScaler if model needs it.\n",
        "#\n",
        "# 7. Build a pipeline:\n",
        "#    - Use ColumnTransformer to handle numeric and categorical features separately.\n",
        "#    - Combine preprocessing + resampling + model into one sklearn / imblearn Pipeline.\n",
        "#    - This ensures no leakage and reproducible preprocessing.\n",
        "#\n",
        "# 8. Cross-validation:\n",
        "#    - Use StratifiedKFold to maintain fraud ratio.\n",
        "#    - Apply resampling and encoding inside each fold to avoid leakage.\n",
        "#\n",
        "# 9. Final checks:\n",
        "#    - Compare train vs test distributions after preprocessing.\n",
        "#    - Calibrate probabilities if needed.\n",
        "#    - Save the preprocessing + model pipeline for deployment.\n",
        "#    - Monitor model inputs and outputs after deployment for drift.\n",
        "#\n",
        "# Short summary:\n",
        "# - Impute ages with median + missing flag\n",
        "# - Detect/cap/transform outliers\n",
        "# - Encode categoricals (OHE/frequency/target encoding)\n",
        "# - Handle imbalance with class weights or SMOTE\n",
        "# - Package everything in a pipeline and validate with stratified CV\n"
      ],
      "metadata": {
        "id": "0m6zo2fFbfGK"
      },
      "execution_count": null,
      "outputs": []
    }
  ]
}